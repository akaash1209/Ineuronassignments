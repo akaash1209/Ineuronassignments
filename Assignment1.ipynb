{
 "cells": [
  {
   "cell_type": "raw",
   "id": "e25a3b6e",
   "metadata": {},
   "source": [
    "1. In the below elements which of them are values or an expression? eg:- values can be\n",
    "integer or string and expressions will be mathematical operators.\n",
    "*\n",
    "&#39;hello&#39;\n",
    "-87.8\n",
    "-\n",
    "/\n",
    "+\n",
    "6\n",
    "Answer=\n",
    "*-mathematical operators\n",
    "&#39;hello&#39; -value\n",
    "-87.8-value\n",
    "- -mathematical operators\n",
    "/ -mathematical operators\n",
    "+ -mathematical operators\n",
    "6 -value"
   ]
  },
  {
   "cell_type": "raw",
   "id": "dfc7c752",
   "metadata": {},
   "source": [
    "2. What is the difference between string and variable?\n",
    "Answer\n",
    "String: String can be written in quotes such: \"apple\", 'apple'\n",
    "Variable: It is the thing in which we can store data just like a container."
   ]
  },
  {
   "cell_type": "raw",
   "id": "5aea09b3",
   "metadata": {},
   "source": [
    "3. Describe three different data types.\n",
    "Answer\n",
    "int,float,boolean,strings,list,tuple\n",
    "List: the list is used for storing multiple data items in a single variable.\n",
    "Integer: integer can store only numerical values.\n",
    "Float: float can store only floating values such as 233.33, 22.2, etc."
   ]
  },
  {
   "cell_type": "raw",
   "id": "d7a01f22",
   "metadata": {},
   "source": [
    "4. What is an expression made up of? What do all expressions do?\n",
    "Answer-\n",
    "An expression is a construct made up of variables, operators, and method invocations, which are constructed according to the syntax of the language, that evaluates to a single value."
   ]
  },
  {
   "cell_type": "raw",
   "id": "eed957d2",
   "metadata": {},
   "source": [
    "5. This assignment statements, like spam = 10. What is the difference between an\n",
    "expression and a statement?\n",
    "Answer-\n",
    "Expression is made up of values, containers, and mathematical operators (operands) and the statement is just like a command that a python interpreter executes like print."
   ]
  },
  {
   "cell_type": "raw",
   "id": "564c0ab8",
   "metadata": {},
   "source": [
    "6. After running the following code, what does the variable bacon contain?\n",
    "bacon = 22\n",
    "bacon + 1\n",
    "Answer-"
   ]
  },
  {
   "cell_type": "code",
   "execution_count": 1,
   "id": "753e40e2",
   "metadata": {},
   "outputs": [],
   "source": [
    "bacon=22"
   ]
  },
  {
   "cell_type": "code",
   "execution_count": 2,
   "id": "568d9611",
   "metadata": {},
   "outputs": [
    {
     "data": {
      "text/plain": [
       "23"
      ]
     },
     "execution_count": 2,
     "metadata": {},
     "output_type": "execute_result"
    }
   ],
   "source": [
    "bacon +1"
   ]
  },
  {
   "cell_type": "raw",
   "id": "19bb1a11",
   "metadata": {},
   "source": [
    "7. What should the values of the following two terms be?\n",
    "'spam' + 'spamspam';\n",
    "'spam' * 3"
   ]
  },
  {
   "cell_type": "code",
   "execution_count": 3,
   "id": "db250b0a",
   "metadata": {},
   "outputs": [],
   "source": [
    "'spam' + 'spamspam';"
   ]
  },
  {
   "cell_type": "code",
   "execution_count": 4,
   "id": "f693eee6",
   "metadata": {},
   "outputs": [
    {
     "data": {
      "text/plain": [
       "'spamspamspam'"
      ]
     },
     "execution_count": 4,
     "metadata": {},
     "output_type": "execute_result"
    }
   ],
   "source": [
    "'spam'*3"
   ]
  },
  {
   "cell_type": "raw",
   "id": "552bc4f3",
   "metadata": {},
   "source": [
    "8. Why is eggs a valid variable name while 100 is invalid?\n",
    "Ans: \n",
    "we can't start giving variable an integer name.We should begin with, a string-like alphabet name then integer. e100 or eggs100 is valid"
   ]
  },
  {
   "cell_type": "raw",
   "id": "fe0e777a",
   "metadata": {},
   "source": [
    "9. What three functions can be used to get the integer, floating-point number, or string version of a value?\n",
    "\n",
    "ans:\n",
    "str(), int(), float()"
   ]
  },
  {
   "cell_type": "raw",
   "id": "155340e3",
   "metadata": {},
   "source": [
    "10. Why does this expression cause an error? How can you fix it?\n",
    "\n",
    "'I have eaten' + 99 + 'burritos' \n",
    "Answer:\n",
    "99 is an integer it cannot be concatenated with strings, if we have to concatenate it we need to do typecasting."
   ]
  }
 ],
 "metadata": {
  "kernelspec": {
   "display_name": "Python 3 (ipykernel)",
   "language": "python",
   "name": "python3"
  },
  "language_info": {
   "codemirror_mode": {
    "name": "ipython",
    "version": 3
   },
   "file_extension": ".py",
   "mimetype": "text/x-python",
   "name": "python",
   "nbconvert_exporter": "python",
   "pygments_lexer": "ipython3",
   "version": "3.9.7"
  }
 },
 "nbformat": 4,
 "nbformat_minor": 5
}
