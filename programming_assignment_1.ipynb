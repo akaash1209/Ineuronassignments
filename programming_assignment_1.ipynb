{
 "cells": [
  {
   "cell_type": "raw",
   "id": "799b126a",
   "metadata": {},
   "source": [
    "1.Write a Python program to print \"Hello Python\"?"
   ]
  },
  {
   "cell_type": "code",
   "execution_count": 1,
   "id": "345a6d02",
   "metadata": {},
   "outputs": [
    {
     "name": "stdout",
     "output_type": "stream",
     "text": [
      "hello python\n"
     ]
    }
   ],
   "source": [
    "print(\"hello python\")"
   ]
  },
  {
   "cell_type": "raw",
   "id": "bfa507bb",
   "metadata": {},
   "source": [
    "2.Write a Python program to do arithmetical operations addition and division.?"
   ]
  },
  {
   "cell_type": "code",
   "execution_count": 10,
   "id": "8fc0f488",
   "metadata": {},
   "outputs": [
    {
     "name": "stdout",
     "output_type": "stream",
     "text": [
      "enter first no. 3.2\n",
      "enter second no.  0.2\n",
      "sum is 3.4000000000000004\n",
      "div is 16.0\n"
     ]
    }
   ],
   "source": [
    "a=float(input(\"enter first no. \"))\n",
    "b=float(input(\"enter second no.  \"))\n",
    "\n",
    "sum=a+b\n",
    "\n",
    "div=a/b\n",
    "\n",
    "print(\"sum is\",sum)\n",
    "print(\"div is\",div)"
   ]
  },
  {
   "cell_type": "raw",
   "id": "db6897d0",
   "metadata": {},
   "source": [
    "3.Write a Python program to find the area of a triangle?"
   ]
  },
  {
   "cell_type": "code",
   "execution_count": 7,
   "id": "0def80df",
   "metadata": {},
   "outputs": [
    {
     "name": "stdout",
     "output_type": "stream",
     "text": [
      "length is 2\n",
      "breath is 2\n",
      "height is 2\n",
      "area of tringle is  8.0\n"
     ]
    }
   ],
   "source": [
    "l=input(\"length is \")\n",
    "b=input(\"breath is \")\n",
    "h=input(\"height is \")\n",
    "\n",
    "area=float(l)*float(b)*float(h)\n",
    "\n",
    "print(\"area of tringle is \",area)"
   ]
  },
  {
   "cell_type": "raw",
   "id": "36826eeb",
   "metadata": {},
   "source": [
    "4.Write a Python program to swap two variables?"
   ]
  },
  {
   "cell_type": "code",
   "execution_count": 14,
   "id": "9b093cdb",
   "metadata": {},
   "outputs": [
    {
     "name": "stdout",
     "output_type": "stream",
     "text": [
      "value of a 2\n",
      "value of b 3\n",
      "after swapping value of a is  3\n",
      "after swapping value of b is 2\n"
     ]
    }
   ],
   "source": [
    "a=int(input(\"value of a \"))\n",
    "b=int(input(\"value of b \"))\n",
    "temp=a\n",
    "a=b\n",
    "b=temp\n",
    "\n",
    "print(\"after swapping value of a is \",a)\n",
    "print(\"after swapping value of b is\",b)"
   ]
  },
  {
   "cell_type": "raw",
   "id": "cab76fc5",
   "metadata": {},
   "source": [
    "5.Write a Python program to generate a random number?"
   ]
  },
  {
   "cell_type": "code",
   "execution_count": null,
   "id": "387580ae",
   "metadata": {},
   "outputs": [],
   "source": [
    "import random\n",
    "print(random.randint(0,9))"
   ]
  }
 ],
 "metadata": {
  "kernelspec": {
   "display_name": "Python 3 (ipykernel)",
   "language": "python",
   "name": "python3"
  },
  "language_info": {
   "codemirror_mode": {
    "name": "ipython",
    "version": 3
   },
   "file_extension": ".py",
   "mimetype": "text/x-python",
   "name": "python",
   "nbconvert_exporter": "python",
   "pygments_lexer": "ipython3",
   "version": "3.9.7"
  }
 },
 "nbformat": 4,
 "nbformat_minor": 5
}
